{
 "metadata": {
  "language_info": {
   "codemirror_mode": {
    "name": "ipython",
    "version": 3
   },
   "file_extension": ".py",
   "mimetype": "text/x-python",
   "name": "python",
   "nbconvert_exporter": "python",
   "pygments_lexer": "ipython3",
   "version": "3.9.1-final"
  },
  "orig_nbformat": 2,
  "kernelspec": {
   "name": "python3",
   "display_name": "Python 3.9.1 64-bit",
   "metadata": {
    "interpreter": {
     "hash": "aee8b7b246df8f9039afb4144a1f6fd8d2ca17a180786b69acc140d282b71a49"
    }
   }
  }
 },
 "nbformat": 4,
 "nbformat_minor": 2,
 "cells": [
  {
   "cell_type": "code",
   "execution_count": 2,
   "metadata": {},
   "outputs": [],
   "source": [
    "# import library\n",
    "from selenium import webdriver\n",
    "from selenium.webdriver.support.ui import WebDriverWait\n",
    "from selenium.webdriver.common.by import By\n",
    "from selenium.webdriver.support import expected_conditions as EC\n",
    "from selenium.common.exceptions import NoSuchElementException, TimeoutException\n",
    "from selenium.webdriver.common.action_chains import ActionChains\n",
    "from selenium.webdriver.common.keys import Keys\n",
    "import pandas as pd"
   ]
  },
  {
   "cell_type": "code",
   "execution_count": 3,
   "metadata": {
    "tags": []
   },
   "outputs": [],
   "source": [
    "from bs4 import BeautifulSoup\n",
    "\n",
    "with open(\"/Users/alifmahardhika/Desktop/ANAMEDSOS/crawlwlwl/mu-pl-results.html\") as fp:\n",
    "    soup = BeautifulSoup(fp, 'html.parser')\n",
    "\n",
    "# soup.find( class_ = \"fixtures__matches-list\" )\n",
    "fixture_url_list = soup.find_all('div', class_='fixture postMatch')\n",
    "urls = []\n",
    "for i in fixture_url_list:\n",
    "    urls.append(\"https://{}\".format(i['data-href'][2:]))"
   ]
  },
  {
   "cell_type": "code",
   "execution_count": 4,
   "metadata": {},
   "outputs": [],
   "source": [
    "def get_home_or_away(driver):\n",
    "    team_classes = driver.find_elements_by_class_name(\"home\")\n",
    "    for i in team_classes:\n",
    "        j = i.find_elements_by_class_name(\"teamName\") \n",
    "        if(len(j) != 0):\n",
    "            if(j[0].find_element_by_class_name(\"short\").get_attribute('innerHTML') == 'MUN'):\n",
    "                return 'home'\n",
    "            else: return 'away'\n",
    "def get_scorer_and_assist(text_to_parse):\n",
    "    a = text_to_parse.split(\".\")\n",
    "    goal_scorer = a[1].split(\" (\")[0][1:]\n",
    "    # goal_scorer = goal_scorer[0]\n",
    "    assist = a[2].split(\" \")[3]\n",
    "    # return in format \"scorer,assister\"\n",
    "    return \"{},{}\".format(goal_scorer,assist)\n",
    "\n",
    "def scrape(url):\n",
    "    driver = webdriver.Chrome(\"/Users/alifmahardhika/Desktop/ANAMEDSOS/chromedriver\")\n",
    "    driver.get(url)\n",
    "    try:\n",
    "        WebDriverWait(driver, 10).until(EC.presence_of_all_elements_located(\n",
    "            (By.XPATH, '//div[@class=\"blogCard goal\"]/*')))\n",
    "        driver.execute_script(\"window.scrollTo(0, document.body.scrollHeight);\")\n",
    "\n",
    "        goals = driver.find_elements_by_xpath('//div[@class=\"blogCard goal\"]/*')\n",
    "\n",
    "        global res\n",
    "        for i in goals:  \n",
    "            a = i.get_attribute('innerHTML')\n",
    "            if 'Assisted by' in a and a.count(\"Manchester United\") > 1:\n",
    "                res.append(get_scorer_and_assist(i.find_element_by_tag_name(\"p\").get_attribute('innerHTML')))\n",
    "    except Exception as e:\n",
    "        # print(e)\n",
    "        pass\n",
    "    print('done')\n",
    "    driver.quit()"
   ]
  },
  {
   "cell_type": "code",
   "execution_count": 5,
   "metadata": {
    "tags": []
   },
   "outputs": [
    {
     "output_type": "stream",
     "name": "stdout",
     "text": [
      "done\n",
      "done\n",
      "done\n",
      "done\n",
      "done\n",
      "done\n",
      "done\n",
      "done\n",
      "done\n",
      "done\n",
      "done\n",
      "done\n",
      "done\n",
      "done\n",
      "done\n",
      "done\n",
      "done\n",
      "done\n",
      "done\n",
      "done\n",
      "done\n",
      "done\n",
      "done\n",
      "done\n",
      "done\n",
      "done\n",
      "done\n",
      "done\n",
      "done\n",
      "done\n",
      "done\n",
      "done\n",
      "['Edinson Cavani,Donny', 'Mason Greenwood,Paul', 'Mason Greenwood,Paul', 'Edinson Cavani,Mason', 'Mason Greenwood,Paul', 'Daniel James,Bruno', 'Anthony Martial,Bruno', 'Harry Maguire,Alex', 'Marcus Rashford,Bruno', 'Bruno Fernandes,Edinson', 'Marcus Rashford,Juan', 'Mason Greenwood,Alex', 'Edinson Cavani,Marcus', 'Edinson Cavani,Bruno', 'Marcus Rashford,Bruno', 'Aaron Wan-Bissaka,Marcus', 'Bruno Fernandes,Marcus']\n"
     ]
    }
   ],
   "source": [
    "res = []\n",
    "count = 0\n",
    "for url in urls:\n",
    "    scrape(url)\n",
    "    # count +=1\n",
    "    # if count== 5:\n",
    "    #     break\n",
    "print(res)"
   ]
  },
  {
   "cell_type": "code",
   "execution_count": 39,
   "metadata": {},
   "outputs": [
    {
     "output_type": "stream",
     "name": "stdout",
     "text": [
      "assist relation:\n['Donny,Edinson', 'Paul,Mason', 'Paul,Mason', 'Mason,Edinson', 'Paul,Mason', 'Bruno,Daniel', 'Bruno,Anthony', 'Alex,Harry', 'Bruno,Marcus', 'Edinson,Bruno', 'Juan,Marcus', 'Alex,Mason', 'Marcus,Edinson', 'Bruno,Edinson', 'Bruno,Marcus', 'Marcus,Aaron', 'Marcus,Bruno']\n\nplayer list:\n['players', 'Aaron', 'Alex', 'Anthony', 'Bruno', 'Daniel', 'Donny', 'Edinson', 'Harry', 'Juan', 'Marcus', 'Mason', 'Paul']\n"
     ]
    }
   ],
   "source": [
    "# print(len(res))\n",
    "assist_goal = []\n",
    "names = []\n",
    "for i in res:\n",
    "    i = i.split(\",\")\n",
    "    goal = i[0].split(\" \")[0]\n",
    "    assist = i[1]\n",
    "    assist_goal.append('{},{}'.format(assist, goal))\n",
    "    names.append(goal)\n",
    "    names.append(assist)\n",
    "\n",
    "print(\"assist relation:\")\n",
    "print(assist_goal)\n",
    "names = sorted(list(dict.fromkeys(names)))\n",
    "names.insert(0, \"players\")\n",
    "print(\"\\nplayer list:\")\n",
    "print(names)\n"
   ]
  },
  {
   "cell_type": "code",
   "execution_count": 42,
   "metadata": {},
   "outputs": [],
   "source": [
    "import csv\n",
    "\n",
    "empty_row = []\n",
    "for i in range(len(names) -1):\n",
    "    empty_row.append(0)\n",
    "with open('man_utd_assist_network_pl20-21.csv', 'w', newline='') as file:\n",
    "    writer = csv.writer(file)\n",
    "    writer.writerow(names) #first row\n",
    "    for i in names:\n",
    "        if i == \"players\": continue\n",
    "        row = [i] + empty_row\n",
    "        writer.writerow(row) #first row"
   ]
  },
  {
   "cell_type": "code",
   "execution_count": 62,
   "metadata": {},
   "outputs": [
    {
     "output_type": "stream",
     "name": "stdout",
     "text": [
      "   players  Aaron  Alex  Anthony  Bruno  Daniel  Donny  Edinson  Harry  Juan  \\\n0    Aaron      0     0        0      0       0      0        0      0     0   \n1     Alex      0     0        0      0       0      0        0      0     0   \n2  Anthony      0     0        0      0       0      0        0      0     0   \n3    Bruno      0     0        0      0       0      0        0      0     0   \n4   Daniel      0     0        0      0       0      0        0      0     0   \n\n   Marcus  Mason  Paul  \n0       0      0     0  \n1       0      0     0  \n2       0      0     0  \n3       0      0     0  \n4       0      0     0  \n"
     ]
    }
   ],
   "source": [
    "import pandas as pd\n",
    "df = pd.read_csv(\"man_utd_assist_network_pl20-21.csv\")\n",
    "print(df.head(5))"
   ]
  },
  {
   "cell_type": "code",
   "execution_count": 100,
   "metadata": {},
   "outputs": [
    {
     "output_type": "execute_result",
     "data": {
      "text/plain": [
       "1"
      ]
     },
     "metadata": {},
     "execution_count": 100
    }
   ],
   "source": [
    "names.index('Aaron')"
   ]
  },
  {
   "cell_type": "code",
   "execution_count": 106,
   "metadata": {},
   "outputs": [
    {
     "output_type": "stream",
     "name": "stdout",
     "text": [
      "   players  Aaron  Alex  Anthony  Bruno  Daniel  Donny  Edinson  Harry  Juan  \\\n0    Aaron      0     0        0      0       0      0        0      0     0   \n1     Alex      0     0        0      0       0      0        0      1     0   \n2  Anthony      0     0        0      0       0      0        0      0     0   \n3    Bruno      0     0        1      0       1      0        1      0     0   \n4   Daniel      0     0        0      0       0      0        0      0     0   \n5    Donny      0     0        0      0       0      0        1      0     0   \n\n   Marcus  Mason  Paul  \n0       0      0     0  \n1       0      1     0  \n2       0      0     0  \n3       2      0     0  \n4       0      0     0  \n5       0      0     0  \n"
     ]
    }
   ],
   "source": [
    "df_copy = df.copy()\n",
    "for i in assist_goal:\n",
    "    assist = i.split(',')[0]\n",
    "    goal = i.split(',')[1]\n",
    "    df_copy.at[names.index(assist)-1,goal] = df_copy.at[names.index(assist)-1,goal] +1\n",
    "print(df_copy.head(6))\n"
   ]
  },
  {
   "cell_type": "code",
   "execution_count": 107,
   "metadata": {},
   "outputs": [],
   "source": [
    "df_copy.to_csv('out.csv', index=False)  "
   ]
  }
 ]
}